{
 "metadata": {
  "name": ""
 },
 "nbformat": 3,
 "nbformat_minor": 0,
 "worksheets": [
  {
   "cells": [
    {
     "cell_type": "code",
     "collapsed": false,
     "input": [
      "import pickle\n",
      "from collections import defaultdict"
     ],
     "language": "python",
     "metadata": {},
     "outputs": [],
     "prompt_number": 49
    },
    {
     "cell_type": "code",
     "collapsed": false,
     "input": [
      "with open('boothremote_data.pck', 'r') as picklefile:\n",
      "    boothremote_data = pickle.load(picklefile)\n",
      "\n",
      "boothremote_to_station, station_to_boothremote, boothremote_to_time_series = boothremote_data"
     ],
     "language": "python",
     "metadata": {},
     "outputs": [],
     "prompt_number": 61
    },
    {
     "cell_type": "code",
     "collapsed": false,
     "input": [
      "import operator\n",
      "station_booth_count = defaultdict(int)\n",
      "\n",
      "for bth, station in boothremote_to_station.iteritems():\n",
      "    station_booth_count[station] += 1\n",
      "\n",
      "station_normalized_count = defaultdict(int)\n",
      "\n",
      "for bth, station in boothremote_to_station.iteritems():\n",
      "    count = 0\n",
      "    time_series = boothremote_to_time_series[bth]\n",
      "    for date, n in time_series:\n",
      "        count += n\n",
      "    station_normalized_count[station] += count\n",
      "\n",
      "print sorted(station_normalized_count.iteritems(), key = operator.itemgetter(1), reverse=True)[:5]"
     ],
     "language": "python",
     "metadata": {},
     "outputs": [
      {
       "output_type": "stream",
       "stream": "stdout",
       "text": [
        "[('34 ST-PENN STA', 14895794), ('42 ST-GRD CNTRL', 12393484), ('34 ST-HERALD SQ', 10576031), ('14 ST-UNION SQ', 9505793), ('42 ST-TIMES SQ', 9232102)]\n"
       ]
      }
     ],
     "prompt_number": 73
    },
    {
     "cell_type": "code",
     "collapsed": false,
     "input": [
      "station_to_time_series = {}\n",
      "\n",
      "for station, station_brs in station_to_boothremote.iteritems():\n",
      "    daily_counts = defaultdict(int)\n",
      "    \n",
      "    for br in station_brs:\n",
      "        time_series = boothremote_to_time_series[br]\n",
      "        for date, count in time_series:\n",
      "            daily_counts[date] += count\n",
      "    \n",
      "    station_to_time_series[station] = daily_counts.items()"
     ],
     "language": "python",
     "metadata": {},
     "outputs": [],
     "prompt_number": 51
    },
    {
     "cell_type": "code",
     "collapsed": false,
     "input": [
      "daily_full_mta_counts = defaultdict(int)\n",
      "\n",
      "for station, time_series in station_to_time_series.iteritems():\n",
      "    for date, count in time_series:\n",
      "        week = date.isocalendar()[1]\n",
      "        daily_full_mta_counts[week] += count\n",
      "\n",
      "daily_full_mta_counts = sorted(daily_full_mta_counts.items())"
     ],
     "language": "python",
     "metadata": {},
     "outputs": [],
     "prompt_number": 59
    },
    {
     "cell_type": "code",
     "collapsed": false,
     "input": [
      "%matplotlib inline\n",
      "import matplotlib.pyplot as plt\n",
      "\n",
      "x, y = [], []\n",
      "for week, count in daily_full_mta_counts:\n",
      "    x.append(week)\n",
      "    y.append(count)\n",
      "x.pop(0)\n",
      "x.pop()\n",
      "y.pop(0)\n",
      "y.pop()\n",
      "\n",
      "plt.plot(x,y, 'ro')"
     ],
     "language": "python",
     "metadata": {},
     "outputs": [
      {
       "metadata": {},
       "output_type": "pyout",
       "prompt_number": 53,
       "text": [
        "[<matplotlib.lines.Line2D at 0x1801071d0>]"
       ]
      },
      {
       "metadata": {},
       "output_type": "display_data",
       "png": "[encoded data removed]",
       "text": [
        "<matplotlib.figure.Figure at 0x10af4cb90>"
       ]
      }
     ],
     "prompt_number": 53
    },
    {
     "cell_type": "code",
     "collapsed": false,
     "input": [
      "from sklearn.linear_model import LinearRegression\n",
      "import numpy as np\n",
      "\n",
      "x = np.asarray(x).reshape(len(x), 1)\n",
      "y = np.asarray(y).reshape(len(y), 1)\n",
      "\n",
      "regressor = LinearRegression(fit_intercept=True).fit(x,y)\n",
      "\n",
      "y_fit = regressor.predict(x)\n",
      "\n",
      "plt.plot(x,y,'ro')\n",
      "plt.plot(x,y_fit)"
     ],
     "language": "python",
     "metadata": {},
     "outputs": [
      {
       "metadata": {},
       "output_type": "pyout",
       "prompt_number": 54,
       "text": [
        "[<matplotlib.lines.Line2D at 0x18218f210>]"
       ]
      },
      {
       "metadata": {},
       "output_type": "display_data",
       "png": "[encoded data removed]",
       "text": [
        "<matplotlib.figure.Figure at 0x18218f690>"
       ]
      }
     ],
     "prompt_number": 54
    },
    {
     "cell_type": "code",
     "collapsed": false,
     "input": [
      "print regressor.coef_\n",
      "observed_slope = regressor.coef_[0][0]\n",
      "print observed_slope"
     ],
     "language": "python",
     "metadata": {},
     "outputs": [
      {
       "output_type": "stream",
       "stream": "stdout",
       "text": [
        "[[-157702.2967033]]\n",
        "-157702.296703\n"
       ]
      }
     ],
     "prompt_number": 55
    },
    {
     "cell_type": "code",
     "collapsed": false,
     "input": [
      "mu = np.mean(y)\n",
      "sigma = np.std(y)\n",
      "\n",
      "import random\n",
      "\n",
      "def get_simulated_slope():\n",
      "    simulated_weekly_counts = []\n",
      "    for i in range(13):\n",
      "        simulated_weekly_counts.append(random.normalvariate(mu, sigma))\n",
      "    \n",
      "        \n",
      "    #plt.plot(x,simulated_weekly_counts,'ro')\n",
      "    \n",
      "    simulated_weekly_counts = np.asarray(simulated_weekly_counts).reshape(len(simulated_weekly_counts), 1)\n",
      "    \n",
      "    regressor = LinearRegression(fit_intercept=True).fit(x,simulated_weekly_counts)\n",
      "\n",
      "    return regressor.coef_\n",
      "\n",
      "#simulated_weekly_counts_fit = regressor.predict(x)\n",
      "\n",
      "#plt.plot(x,simulated_weekly_counts_fit)"
     ],
     "language": "python",
     "metadata": {},
     "outputs": [],
     "prompt_number": 56
    },
    {
     "cell_type": "code",
     "collapsed": false,
     "input": [
      "count = 0\n",
      "simulated_slopes = []\n",
      "extreme_slope = []\n",
      "for i in range(10000):\n",
      "    coef = get_simulated_slope()\n",
      "    simulated_slopes.append(coef)\n",
      "    if coef <= observed_slope:\n",
      "        count += 1\n",
      "        extreme_slope.append(coef)\n",
      "\n",
      "print count\n",
      "print len(simulated_slopes)\n",
      "print round(count//len(simulated_slopes), 10)"
     ],
     "language": "python",
     "metadata": {},
     "outputs": [
      {
       "output_type": "stream",
       "stream": "stdout",
       "text": [
        "885\n",
        "10000\n",
        "0.0\n"
       ]
      }
     ],
     "prompt_number": 57
    },
    {
     "cell_type": "code",
     "collapsed": false,
     "input": [],
     "language": "python",
     "metadata": {},
     "outputs": [],
     "prompt_number": 57
    }
   ],
   "metadata": {}
  }
 ]
}