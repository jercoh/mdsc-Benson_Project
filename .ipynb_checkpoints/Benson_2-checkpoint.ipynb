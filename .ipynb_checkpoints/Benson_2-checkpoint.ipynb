{
 "metadata": {
  "name": "",
  "signature": "sha256:666d5751cf0140c4f7830334126792341a30873bd66c9ff2eebe9c14740865d0"
 },
 "nbformat": 3,
 "nbformat_minor": 0,
 "worksheets": [
  {
   "cells": [
    {
     "cell_type": "markdown",
     "metadata": {},
     "source": [
      "##Open questions\n",
      "\n",
      "1. What is a Control Area/Booth? \n",
      "2. What is a Remote Unit?\n",
      "3. How do Remotes, Booths, and Stations relate to eachother? For example, remote R051 belongs to 2 stations, Lexington Ave and 59th St. Lexington also has remote R\n",
      "4. If we understand booths, stations, remotes, and turnstiles, can we tell from this data what line the entries belong to? How do the multi-line stations work in NY? Does swiping happen before or after you've disambiguated what train you're getting on? \n",
      "5. Occasional negative counts. :/\n",
      "6. REGULAR column\n",
      "\n",
      "##Answers\n",
      "\n",
      "1. \"Division\" in the key refers to which historical rail system the lines were part of. This is related to why some trains are letters and some numbers\n"
     ]
    },
    {
     "cell_type": "markdown",
     "metadata": {},
     "source": [
      "###Field Descriptions\n",
      "\n",
      "*C/A,UNIT,SCP,DATE1,TIME1,DESC1,ENTRIES1,EXITS1,DATE2,TIME2,DESC2,ENTRIES2,EXITS2,DATE3,TIME3,DESC3,ENTRIES3,EXITS3,DATE4,TIME4,DESC4,ENTRIES4,EXITS4,DATE5,TIME5,DESC5,ENTRIES5,EXITS5,DATE6,TIME6,DESC6,ENTRIES6,EXITS6,DATE7,TIME7,DESC7,ENTRIES7,EXITS7,DATE8,TIME8,DESC8,ENTRIES8,EXITS8\n",
      "\n",
      "\n",
      "* C/A = Control Area (A002) [also called a \"Booth\" elsewhere]\n",
      "* UNIT = Remote Unit for a station (R051)\n",
      "* SCP = Subunit Channel Position represents an specific address for a device (02-00-00)\n",
      "* DATEn = Represents the date (MM-DD-YY)\n",
      "* TIMEn = Represents the time (hh:mm:ss) for a scheduled audit event\n",
      "* DEScn = Represent the \"REGULAR\" scheduled audit event (occurs every 4 hours)\n",
      "* ENTRIESn = The comulative entry register value for a device\n",
      "* EXISTn = The cumulative exit register value for a device\n",
      "\n"
     ]
    },
    {
     "cell_type": "markdown",
     "metadata": {},
     "source": [
      "###first line in turnstile data: \n",
      "\n",
      "['A002', 'R051', '02-00-00', '07-19-14', '00:00:00', 'REGULAR', '004708005', '001599249', '07-19-14', '04:00:00', 'REGULAR', '004708036', '001599255', '07-19-14', '08:00:00', 'REGULAR', '004708055', '001599280', '07-19-14', '12:00:00', 'REGULAR', '004708176', '001599370', '07-19-14', '16:00:00', 'REGULAR', '004708455', '001599418', '07-19-14', '20:00:00', 'REGULAR', '004708760', '001599463', '07-20-14', '00:00:00', 'REGULAR', '004708939', '001599486', '07-20-14', '04:00:00', 'REGULAR', '004708980', '001599490 ']\n",
      "\n",
      "###corresponding entry for 'R051' from turnstile_key.xls:\n",
      "\n",
      "<table>\n",
      "<tr>\n",
      "<td>Remote<td>Booth<td>Station<td>Line Name<td>Division\n",
      "</tr>\n",
      "<tr>\n",
      "<td>R051<td>A002<td>LEXINGTON AVE<td>456NQR<td>BMT\n",
      "</tr>\n",
      "</table>\n",
      "\n"
     ]
    },
    {
     "cell_type": "markdown",
     "metadata": {},
     "source": [
      "## Download the data"
     ]
    },
    {
     "cell_type": "code",
     "collapsed": false,
     "input": [
      "# %matplotlib inline\n",
      "# import mta\n",
      "\n",
      "# mta.get_turnstile_data(num_files=14,\n",
      "#                        data_url=\"http://web.mta.info/developers/turnstile.html\",\n",
      "#                        destination='./data/')"
     ],
     "language": "python",
     "metadata": {},
     "outputs": [],
     "prompt_number": 2
    },
    {
     "cell_type": "markdown",
     "metadata": {},
     "source": [
      "## Get the data out of the csvs"
     ]
    },
    {
     "cell_type": "code",
     "collapsed": true,
     "input": [
      "%matplotlib inline\n",
      "import mta\n",
      "from pprint import pprint\n",
      "\n",
      "filenames = mta.get_glob()\n",
      "ts = mta.extract_turnstile_data_from_csvs(filenames)\n",
      "print len(ts)"
     ],
     "language": "python",
     "metadata": {},
     "outputs": [
      {
       "output_type": "stream",
       "stream": "stdout",
       "text": [
        "extracting  data/turnstile_140531.txt\n",
        "extracting "
       ]
      },
      {
       "output_type": "stream",
       "stream": "stdout",
       "text": [
        " data/turnstile_140607.txt\n",
        "extracting "
       ]
      },
      {
       "output_type": "stream",
       "stream": "stdout",
       "text": [
        " data/turnstile_140614.txt\n",
        "extracting "
       ]
      },
      {
       "output_type": "stream",
       "stream": "stdout",
       "text": [
        " data/turnstile_140621.txt\n",
        "extracting "
       ]
      },
      {
       "output_type": "stream",
       "stream": "stdout",
       "text": [
        " data/turnstile_140628.txt\n",
        "extracting "
       ]
      },
      {
       "output_type": "stream",
       "stream": "stdout",
       "text": [
        " data/turnstile_140705.txt\n",
        "extracting "
       ]
      },
      {
       "output_type": "stream",
       "stream": "stdout",
       "text": [
        " data/turnstile_140712.txt\n",
        "extracting "
       ]
      },
      {
       "output_type": "stream",
       "stream": "stdout",
       "text": [
        " data/turnstile_140719.txt\n",
        "extracting "
       ]
      },
      {
       "output_type": "stream",
       "stream": "stdout",
       "text": [
        " data/turnstile_140726.txt\n",
        "extracting "
       ]
      },
      {
       "output_type": "stream",
       "stream": "stdout",
       "text": [
        " data/turnstile_140802.txt\n",
        "extracting "
       ]
      },
      {
       "output_type": "stream",
       "stream": "stdout",
       "text": [
        " data/turnstile_140809.txt\n",
        "extracting "
       ]
      },
      {
       "output_type": "stream",
       "stream": "stdout",
       "text": [
        " data/turnstile_140816.txt\n",
        "extracting "
       ]
      },
      {
       "output_type": "stream",
       "stream": "stdout",
       "text": [
        " data/turnstile_140823.txt\n",
        "extracting "
       ]
      },
      {
       "output_type": "stream",
       "stream": "stdout",
       "text": [
        " data/turnstile_140830.txt\n",
        "4547"
       ]
      },
      {
       "output_type": "stream",
       "stream": "stdout",
       "text": [
        "\n"
       ]
      }
     ],
     "prompt_number": 3
    },
    {
     "cell_type": "markdown",
     "metadata": {},
     "source": [
      "##Get turnstile counts"
     ]
    },
    {
     "cell_type": "code",
     "collapsed": false,
     "input": [
      "import datetime\n",
      "\n",
      "# this is actually quite awesome but not at all fast. \n",
      "#2014-08-08 17:00:14.194766\n",
      "#calculating turnstile counts for turnstiles.\n",
      "#2014-08-08 17:01:58.087474\n",
      "\n",
      "turnstile_data = mta.get_ts_counts_fastawesome(ts)\n",
      "print len(turnstile_data)"
     ],
     "language": "python",
     "metadata": {},
     "outputs": [
      {
       "output_type": "stream",
       "stream": "stdout",
       "text": [
        "calculating turnstile counts for 4547 turnstiles.\n",
        "4547"
       ]
      },
      {
       "output_type": "stream",
       "stream": "stdout",
       "text": [
        "\n"
       ]
      }
     ],
     "prompt_number": 4
    },
    {
     "cell_type": "markdown",
     "metadata": {},
     "source": [
      "##Collapse turnstiles to booth-remotes"
     ]
    },
    {
     "cell_type": "code",
     "collapsed": false,
     "input": [
      "# collapse the data to booth-remotes\n",
      "#[takes a minute but not as long as the day count extraction]\n",
      "boothremote_raw,boothremotes = mta.collapse_data_to_booth_remote(turnstile_data)\n",
      "booth_iter = boothremotes.iteritems()"
     ],
     "language": "python",
     "metadata": {},
     "outputs": [],
     "prompt_number": 5
    },
    {
     "cell_type": "code",
     "collapsed": false,
     "input": [
      "# how many boothremotes are there?\n",
      "print 'number of boothremotes: ',len(boothremotes) \n",
      "\n",
      "# what does one boothremote look like?\n",
      "br_id,br_counts = booth_iter.next()\n",
      "#print 'br id of first booth remote: ',br_id\n",
      "#print 'daily counts:'\n",
      "pprint(br_counts)"
     ],
     "language": "python",
     "metadata": {},
     "outputs": [
      {
       "ename": "AttributeError",
       "evalue": "'collections.defaultdict' object has no attribute 'next'",
       "output_type": "pyerr",
       "traceback": [
        "\u001b[0;31m---------------------------------------------------------------------------\u001b[0m\n\u001b[0;31mAttributeError\u001b[0m                            Traceback (most recent call last)",
        "\u001b[0;32m<ipython-input-22-22a96efa1929>\u001b[0m in \u001b[0;36m<module>\u001b[0;34m()\u001b[0m\n\u001b[1;32m      3\u001b[0m \u001b[0;34m\u001b[0m\u001b[0m\n\u001b[1;32m      4\u001b[0m \u001b[0;31m# what does one boothremote look like?\u001b[0m\u001b[0;34m\u001b[0m\u001b[0;34m\u001b[0m\u001b[0m\n\u001b[0;32m----> 5\u001b[0;31m \u001b[0mbr_id\u001b[0m\u001b[0;34m,\u001b[0m\u001b[0mbr_counts\u001b[0m \u001b[0;34m=\u001b[0m \u001b[0mboothremotes\u001b[0m\u001b[0;34m.\u001b[0m\u001b[0mnext\u001b[0m\u001b[0;34m(\u001b[0m\u001b[0;34m)\u001b[0m\u001b[0;34m\u001b[0m\u001b[0m\n\u001b[0m\u001b[1;32m      6\u001b[0m \u001b[0;31m#print 'br id of first booth remote: ',br_id\u001b[0m\u001b[0;34m\u001b[0m\u001b[0;34m\u001b[0m\u001b[0m\n\u001b[1;32m      7\u001b[0m \u001b[0;31m#print 'daily counts:'\u001b[0m\u001b[0;34m\u001b[0m\u001b[0;34m\u001b[0m\u001b[0m\n",
        "\u001b[0;31mAttributeError\u001b[0m: 'collections.defaultdict' object has no attribute 'next'"
       ]
      },
      {
       "output_type": "stream",
       "stream": "stdout",
       "text": [
        "number of boothremotes:  729\n"
       ]
      }
     ],
     "prompt_number": 22
    },
    {
     "cell_type": "markdown",
     "metadata": {},
     "source": [
      "#PLOT"
     ]
    },
    {
     "cell_type": "code",
     "collapsed": false,
     "input": [
      "import matplotlib.pyplot as plt\n",
      "# plot the turnstile entry counts per day for one boothremote\n",
      "dates,counts = mta.dates_and_counts(br_counts)\n",
      "f = plt.figure(figsize=(10,3))\n",
      "p = plt.plot(dates,counts)"
     ],
     "language": "python",
     "metadata": {},
     "outputs": [
      {
       "metadata": {},
       "output_type": "display_data",
       "png": "[encoded data removed]",
       "text": [
        "<matplotlib.figure.Figure at 0x14bf488d0>"
       ]
      }
     ],
     "prompt_number": 23
    },
    {
     "cell_type": "code",
     "collapsed": false,
     "input": [
      "import operator\n",
      "max(boothremotes.iteritems(), key=operator.itemgetter(1))"
     ],
     "language": "python",
     "metadata": {},
     "outputs": [
      {
       "metadata": {},
       "output_type": "pyout",
       "prompt_number": 8,
       "text": [
        "(('55', 'R508'),\n",
        " [[datetime.datetime(2014, 7, 9, 0, 0), 0],\n",
        "  [datetime.datetime(2014, 7, 10, 0, 0), 0]])"
       ]
      }
     ],
     "prompt_number": 8
    },
    {
     "cell_type": "code",
     "collapsed": false,
     "input": [
      "boothremotes.iteritems().next()\n"
     ],
     "language": "python",
     "metadata": {},
     "outputs": [
      {
       "metadata": {},
       "output_type": "pyout",
       "prompt_number": 9,
       "text": [
        "(('R110', 'R027'),\n",
        " [[datetime.datetime(2014, 5, 24, 0, 0), 3781],\n",
        "  [datetime.datetime(2014, 5, 25, 0, 0), 3518],\n",
        "  [datetime.datetime(2014, 5, 26, 0, 0), 3367],\n",
        "  [datetime.datetime(2014, 5, 27, 0, 0), 11345],\n",
        "  [datetime.datetime(2014, 5, 28, 0, 0), 11987],\n",
        "  [datetime.datetime(2014, 5, 29, 0, 0), 12075],\n",
        "  [datetime.datetime(2014, 5, 30, 0, 0), 11645],\n",
        "  [datetime.datetime(2014, 5, 31, 0, 0), 4191],\n",
        "  [datetime.datetime(2014, 6, 1, 0, 0), 3296],\n",
        "  [datetime.datetime(2014, 6, 2, 0, 0), 11444],\n",
        "  [datetime.datetime(2014, 6, 3, 0, 0), 12244],\n",
        "  [datetime.datetime(2014, 6, 4, 0, 0), 12008],\n",
        "  [datetime.datetime(2014, 6, 5, 0, 0), 11900],\n",
        "  [datetime.datetime(2014, 6, 6, 0, 0), 11683],\n",
        "  [datetime.datetime(2014, 6, 7, 0, 0), 4540],\n",
        "  [datetime.datetime(2014, 6, 8, 0, 0), 3418],\n",
        "  [datetime.datetime(2014, 6, 9, 0, 0), 11331],\n",
        "  [datetime.datetime(2014, 6, 10, 0, 0), 12234],\n",
        "  [datetime.datetime(2014, 6, 11, 0, 0), 12605],\n",
        "  [datetime.datetime(2014, 6, 12, 0, 0), 12223],\n",
        "  [datetime.datetime(2014, 6, 13, 0, 0), 11395],\n",
        "  [datetime.datetime(2014, 6, 14, 0, 0), 4615],\n",
        "  [datetime.datetime(2014, 6, 15, 0, 0), 3272],\n",
        "  [datetime.datetime(2014, 6, 16, 0, 0), 11701],\n",
        "  [datetime.datetime(2014, 6, 17, 0, 0), 12205],\n",
        "  [datetime.datetime(2014, 6, 18, 0, 0), 12328],\n",
        "  [datetime.datetime(2014, 6, 19, 0, 0), 12167],\n",
        "  [datetime.datetime(2014, 6, 20, 0, 0), 11526],\n",
        "  [datetime.datetime(2014, 6, 21, 0, 0), 4710],\n",
        "  [datetime.datetime(2014, 6, 22, 0, 0), 3653],\n",
        "  [datetime.datetime(2014, 6, 23, 0, 0), 11348],\n",
        "  [datetime.datetime(2014, 6, 24, 0, 0), 12041],\n",
        "  [datetime.datetime(2014, 6, 25, 0, 0), 12177],\n",
        "  [datetime.datetime(2014, 6, 26, 0, 0), 12275],\n",
        "  [datetime.datetime(2014, 6, 27, 0, 0), 11049],\n",
        "  [datetime.datetime(2014, 6, 28, 0, 0), 4396],\n",
        "  [datetime.datetime(2014, 6, 29, 0, 0), 3680],\n",
        "  [datetime.datetime(2014, 6, 30, 0, 0), 11111],\n",
        "  [datetime.datetime(2014, 7, 1, 0, 0), 11943],\n",
        "  [datetime.datetime(2014, 7, 2, 0, 0), 11491],\n",
        "  [datetime.datetime(2014, 7, 3, 0, 0), 10354],\n",
        "  [datetime.datetime(2014, 7, 4, 0, 0), 4898],\n",
        "  [datetime.datetime(2014, 7, 5, 0, 0), 3876],\n",
        "  [datetime.datetime(2014, 7, 6, 0, 0), 2910],\n",
        "  [datetime.datetime(2014, 7, 7, 0, 0), 10709],\n",
        "  [datetime.datetime(2014, 7, 8, 0, 0), 11657],\n",
        "  [datetime.datetime(2014, 7, 9, 0, 0), 12037],\n",
        "  [datetime.datetime(2014, 7, 10, 0, 0), 11933],\n",
        "  [datetime.datetime(2014, 7, 11, 0, 0), 11251],\n",
        "  [datetime.datetime(2014, 7, 12, 0, 0), 4566],\n",
        "  [datetime.datetime(2014, 7, 13, 0, 0), 3210],\n",
        "  [datetime.datetime(2014, 7, 14, 0, 0), 11049],\n",
        "  [datetime.datetime(2014, 7, 15, 0, 0), 11525],\n",
        "  [datetime.datetime(2014, 7, 16, 0, 0), 11808],\n",
        "  [datetime.datetime(2014, 7, 17, 0, 0), 12175],\n",
        "  [datetime.datetime(2014, 7, 18, 0, 0), 11082],\n",
        "  [datetime.datetime(2014, 7, 19, 0, 0), 4332],\n",
        "  [datetime.datetime(2014, 7, 20, 0, 0), 3405],\n",
        "  [datetime.datetime(2014, 7, 21, 0, 0), 11067],\n",
        "  [datetime.datetime(2014, 7, 22, 0, 0), 11882],\n",
        "  [datetime.datetime(2014, 7, 23, 0, 0), 11958],\n",
        "  [datetime.datetime(2014, 7, 24, 0, 0), 11791],\n",
        "  [datetime.datetime(2014, 7, 25, 0, 0), 11229],\n",
        "  [datetime.datetime(2014, 7, 26, 0, 0), 4538],\n",
        "  [datetime.datetime(2014, 7, 27, 0, 0), 3441],\n",
        "  [datetime.datetime(2014, 7, 28, 0, 0), 10870],\n",
        "  [datetime.datetime(2014, 7, 29, 0, 0), 11754],\n",
        "  [datetime.datetime(2014, 7, 30, 0, 0), 11407],\n",
        "  [datetime.datetime(2014, 7, 31, 0, 0), 11803],\n",
        "  [datetime.datetime(2014, 8, 1, 0, 0), 10792],\n",
        "  [datetime.datetime(2014, 8, 2, 0, 0), 4022],\n",
        "  [datetime.datetime(2014, 8, 3, 0, 0), 3656],\n",
        "  [datetime.datetime(2014, 8, 4, 0, 0), 10803],\n",
        "  [datetime.datetime(2014, 8, 5, 0, 0), 11539],\n",
        "  [datetime.datetime(2014, 8, 6, 0, 0), 11497],\n",
        "  [datetime.datetime(2014, 8, 7, 0, 0), 11623],\n",
        "  [datetime.datetime(2014, 8, 8, 0, 0), 10580],\n",
        "  [datetime.datetime(2014, 8, 9, 0, 0), 4405],\n",
        "  [datetime.datetime(2014, 8, 10, 0, 0), 3447],\n",
        "  [datetime.datetime(2014, 8, 11, 0, 0), 10577],\n",
        "  [datetime.datetime(2014, 8, 12, 0, 0), 11052],\n",
        "  [datetime.datetime(2014, 8, 13, 0, 0), 11066],\n",
        "  [datetime.datetime(2014, 8, 14, 0, 0), 11262],\n",
        "  [datetime.datetime(2014, 8, 15, 0, 0), 10699],\n",
        "  [datetime.datetime(2014, 8, 16, 0, 0), 4302],\n",
        "  [datetime.datetime(2014, 8, 17, 0, 0), 3379],\n",
        "  [datetime.datetime(2014, 8, 18, 0, 0), 10488],\n",
        "  [datetime.datetime(2014, 8, 19, 0, 0), 10982],\n",
        "  [datetime.datetime(2014, 8, 20, 0, 0), 10895],\n",
        "  [datetime.datetime(2014, 8, 21, 0, 0), 11352],\n",
        "  [datetime.datetime(2014, 8, 22, 0, 0), 9980],\n",
        "  [datetime.datetime(2014, 8, 23, 0, 0), 4309],\n",
        "  [datetime.datetime(2014, 8, 24, 0, 0), 3578],\n",
        "  [datetime.datetime(2014, 8, 25, 0, 0), 10401],\n",
        "  [datetime.datetime(2014, 8, 26, 0, 0), 10727],\n",
        "  [datetime.datetime(2014, 8, 27, 0, 0), 10807],\n",
        "  [datetime.datetime(2014, 8, 28, 0, 0), 10774],\n",
        "  [datetime.datetime(2014, 8, 29, 0, 0), 8430]])"
       ]
      }
     ],
     "prompt_number": 9
    },
    {
     "cell_type": "code",
     "collapsed": false,
     "input": [
      "from collections import defaultdict\n",
      "booth_count = defaultdict(int)\n",
      "for booth, entries in boothremotes.iteritems():\n",
      "    for day, count in entries:\n",
      "        booth_count[booth] += count"
     ],
     "language": "python",
     "metadata": {},
     "outputs": [],
     "prompt_number": 10
    },
    {
     "cell_type": "code",
     "collapsed": false,
     "input": [
      "max(booth_count.iteritems(), key=operator.itemgetter(1))"
     ],
     "language": "python",
     "metadata": {},
     "outputs": [
      {
       "metadata": {},
       "output_type": "pyout",
       "prompt_number": 12,
       "text": [
        "(('R238', 'R046'), 5785023)"
       ]
      }
     ],
     "prompt_number": 12
    },
    {
     "cell_type": "code",
     "collapsed": false,
     "input": [],
     "language": "python",
     "metadata": {},
     "outputs": []
    }
   ],
   "metadata": {}
  }
 ]
}