{
 "metadata": {
  "name": "",
  "signature": "sha256:63e2e97230e5dfbf8a968e616a81c9c4729c32f328f811fd478ae0be08d89622"
 },
 "nbformat": 3,
 "nbformat_minor": 0,
 "worksheets": [
  {
   "cells": [
    {
     "cell_type": "markdown",
     "metadata": {},
     "source": [
      "## Download the data"
     ]
    },
    {
     "cell_type": "code",
     "collapsed": false,
     "input": [
      "%matplotlib inline\n",
      "import mta\n",
      "\n",
      "mta.get_turnstile_data(num_files=14,\n",
      "                       data_url=\"http://web.mta.info/developers/turnstile.html\",\n",
      "                       destination='./data/')"
     ],
     "language": "python",
     "metadata": {},
     "outputs": [
      {
       "output_type": "stream",
       "stream": "stdout",
       "text": [
        "Downloading turnstile key from http://web.mta.info/developers/resources/nyct/turnstile/Remote-Booth-Station.xls\n",
        "Downloading 1 of 14: http://web.mta.info/developers/data/nyct/turnstile/turnstile_140830.txt"
       ]
      },
      {
       "output_type": "stream",
       "stream": "stdout",
       "text": [
        "\n",
        "Downloading 2 of 14: http://web.mta.info/developers/data/nyct/turnstile/turnstile_140823.txt"
       ]
      },
      {
       "output_type": "stream",
       "stream": "stdout",
       "text": [
        "\n",
        "Downloading 3 of 14: http://web.mta.info/developers/data/nyct/turnstile/turnstile_140816.txt"
       ]
      },
      {
       "output_type": "stream",
       "stream": "stdout",
       "text": [
        "\n",
        "Downloading 4 of 14: http://web.mta.info/developers/data/nyct/turnstile/turnstile_140809.txt"
       ]
      },
      {
       "output_type": "stream",
       "stream": "stdout",
       "text": [
        "\n",
        "Downloading 5 of 14: http://web.mta.info/developers/data/nyct/turnstile/turnstile_140802.txt"
       ]
      },
      {
       "output_type": "stream",
       "stream": "stdout",
       "text": [
        "\n",
        "Downloading 6 of 14: http://web.mta.info/developers/data/nyct/turnstile/turnstile_140726.txt"
       ]
      },
      {
       "output_type": "stream",
       "stream": "stdout",
       "text": [
        "\n",
        "Downloading 7 of 14: http://web.mta.info/developers/data/nyct/turnstile/turnstile_140719.txt"
       ]
      },
      {
       "output_type": "stream",
       "stream": "stdout",
       "text": [
        "\n",
        "Downloading 8 of 14: http://web.mta.info/developers/data/nyct/turnstile/turnstile_140712.txt"
       ]
      },
      {
       "output_type": "stream",
       "stream": "stdout",
       "text": [
        "\n",
        "Downloading 9 of 14: http://web.mta.info/developers/data/nyct/turnstile/turnstile_140705.txt"
       ]
      },
      {
       "output_type": "stream",
       "stream": "stdout",
       "text": [
        "\n",
        "Downloading 10 of 14: http://web.mta.info/developers/data/nyct/turnstile/turnstile_140628.txt"
       ]
      },
      {
       "output_type": "stream",
       "stream": "stdout",
       "text": [
        "\n",
        "Downloading 11 of 14: http://web.mta.info/developers/data/nyct/turnstile/turnstile_140621.txt"
       ]
      },
      {
       "output_type": "stream",
       "stream": "stdout",
       "text": [
        "\n",
        "Downloading 12 of 14: http://web.mta.info/developers/data/nyct/turnstile/turnstile_140614.txt"
       ]
      },
      {
       "output_type": "stream",
       "stream": "stdout",
       "text": [
        "\n",
        "Downloading 13 of 14: http://web.mta.info/developers/data/nyct/turnstile/turnstile_140607.txt"
       ]
      },
      {
       "output_type": "stream",
       "stream": "stdout",
       "text": [
        "\n",
        "Downloading 14 of 14: http://web.mta.info/developers/data/nyct/turnstile/turnstile_140531.txt"
       ]
      },
      {
       "output_type": "stream",
       "stream": "stdout",
       "text": [
        "\n",
        "Done."
       ]
      },
      {
       "output_type": "stream",
       "stream": "stdout",
       "text": [
        "\n"
       ]
      }
     ],
     "prompt_number": 2
    },
    {
     "cell_type": "code",
     "collapsed": false,
     "input": [
      "ls"
     ],
     "language": "python",
     "metadata": {},
     "outputs": [
      {
       "output_type": "stream",
       "stream": "stdout",
       "text": [
        "Benson_1.ipynb     \u001b[34mdata\u001b[m\u001b[m/              mta.pyc            turnstile_key.xls\r\n",
        "README.md          mta.py             turnstile_key.csv\r\n"
       ]
      }
     ],
     "prompt_number": 1
    },
    {
     "cell_type": "code",
     "collapsed": false,
     "input": [
      "ls"
     ],
     "language": "python",
     "metadata": {},
     "outputs": [
      {
       "output_type": "stream",
       "stream": "stdout",
       "text": [
        "Benson_1.ipynb     \u001b[34mdata\u001b[m\u001b[m/              mta.pyc            turnstile_key.xls\r\n",
        "README.md          mta.py             turnstile_key.csv\r\n"
       ]
      }
     ],
     "prompt_number": 2
    },
    {
     "cell_type": "code",
     "collapsed": false,
     "input": [
      "2+2"
     ],
     "language": "python",
     "metadata": {},
     "outputs": [
      {
       "metadata": {},
       "output_type": "pyout",
       "prompt_number": 3,
       "text": [
        "4"
       ]
      }
     ],
     "prompt_number": 3
    },
    {
     "cell_type": "code",
     "collapsed": false,
     "input": [
      "import math"
     ],
     "language": "python",
     "metadata": {},
     "outputs": [],
     "prompt_number": 4
    },
    {
     "cell_type": "code",
     "collapsed": false,
     "input": [
      "math.sqrt(4)"
     ],
     "language": "python",
     "metadata": {},
     "outputs": [
      {
       "metadata": {},
       "output_type": "pyout",
       "prompt_number": 5,
       "text": [
        "2.0"
       ]
      }
     ],
     "prompt_number": 5
    },
    {
     "cell_type": "code",
     "collapsed": false,
     "input": [
      "toy_file = open(\"shiny_new_file.txt\",\"w\")"
     ],
     "language": "python",
     "metadata": {},
     "outputs": [],
     "prompt_number": 6
    },
    {
     "cell_type": "code",
     "collapsed": false,
     "input": [
      "ls"
     ],
     "language": "python",
     "metadata": {},
     "outputs": [
      {
       "output_type": "stream",
       "stream": "stdout",
       "text": [
        "Benson_1.ipynb      \u001b[34mdata\u001b[m\u001b[m/               mta.pyc             turnstile_key.csv\r\n",
        "README.md           mta.py              shiny_new_file.txt  turnstile_key.xls\r\n"
       ]
      }
     ],
     "prompt_number": 7
    },
    {
     "cell_type": "code",
     "collapsed": false,
     "input": [
      "toy_file"
     ],
     "language": "python",
     "metadata": {},
     "outputs": [
      {
       "metadata": {},
       "output_type": "pyout",
       "prompt_number": 8,
       "text": [
        "<open file 'shiny_new_file.txt', mode 'w' at 0x108d53c00>"
       ]
      }
     ],
     "prompt_number": 8
    },
    {
     "cell_type": "code",
     "collapsed": false,
     "input": [
      "toy_file.write(\"hey guys!\")\n",
      "toy_file.close()"
     ],
     "language": "python",
     "metadata": {},
     "outputs": [],
     "prompt_number": 9
    },
    {
     "cell_type": "code",
     "collapsed": false,
     "input": [
      "toy_file\n"
     ],
     "language": "python",
     "metadata": {},
     "outputs": [
      {
       "metadata": {},
       "output_type": "pyout",
       "prompt_number": 10,
       "text": [
        "<closed file 'shiny_new_file.txt', mode 'w' at 0x108d53c00>"
       ]
      }
     ],
     "prompt_number": 10
    },
    {
     "cell_type": "code",
     "collapsed": false,
     "input": [
      "content = !head data/turnstile_140531.txt\n",
      "print content"
     ],
     "language": "python",
     "metadata": {},
     "outputs": [
      {
       "output_type": "stream",
       "stream": "stdout",
       "text": [
        "['A002,R051,02-00-00,05-24-14,00:00:00,REGULAR,004628594,001575370,05-24-14,04:00:00,REGULAR,004628629,001575374,05-24-14,08:00:00,REGULAR,004628642,001575387,05-24-14,12:00:00,REGULAR,004628736,001575468,05-24-14,16:00:00,REGULAR,004628991,001575545,05-24-14,20:00:00,REGULAR,004629248,001575602,05-25-14,00:00:00,REGULAR,004629431,001575636,05-25-14,04:00:00,REGULAR,004629465,001575643                                                                                                                  ', 'A002,R051,02-00-00,05-25-14,08:00:00,REGULAR,004629483,001575664,05-25-14,12:00:00,REGULAR,004629560,001575730,05-25-14,16:00:00,REGULAR,004629760,001575773,05-25-14,20:00:00,REGULAR,004629984,001575835,05-26-14,00:00:00,REGULAR,004630115,001575873,05-26-14,04:00:00,REGULAR,004630133,001575884,05-26-14,08:00:00,REGULAR,004630148,001575915,05-26-14,12:00:00,REGULAR,004630235,001576000                                                                                                                  ', 'A002,R051,02-00-00,05-26-14,16:00:00,REGULAR,004630481,001576049,05-26-14,20:00:00,REGULAR,004630756,001576103,05-27-14,00:00:00,REGULAR,004630919,001576150,05-27-14,04:00:00,REGULAR,004630946,001576154,05-27-14,08:00:00,REGULAR,004630978,001576277,05-27-14,08:53:11,DOOR OPEN,004631024,001576407,05-27-14,08:53:19,DOOR OPEN,004631024,001576407,05-27-14,09:05:08,LOGON,004631024,001576407                                                                                                                ', 'A002,R051,02-00-00,05-27-14,09:11:10,LGF-MAN,004631028,001576408,05-27-14,09:11:32,DOOR CLOSE,004631028,001576408,05-27-14,12:00:00,REGULAR,004631168,001576565,05-27-14,16:00:00,REGULAR,004631501,001576639,05-27-14,20:00:00,REGULAR,004632370,001576697,05-28-14,00:00:00,REGULAR,004632583,001576719,05-28-14,04:00:00,REGULAR,004632595,001576721,05-28-14,08:00:00,REGULAR,004632643,001576812                                                                                                               ', 'A002,R051,02-00-00,05-28-14,12:00:00,REGULAR,004632818,001577064,05-28-14,16:00:00,REGULAR,004633111,001577127,05-28-14,20:00:00,REGULAR,004634009,001577215,05-29-14,00:00:00,REGULAR,004634244,001577233,05-29-14,04:00:00,REGULAR,004634268,001577240,05-29-14,08:00:00,REGULAR,004634322,001577356,05-29-14,12:00:00,REGULAR,004634496,001577644,05-29-14,16:00:00,REGULAR,004634837,001577711                                                                                                                  ', 'A002,R051,02-00-00,05-29-14,20:00:00,REGULAR,004635796,001577785,05-30-14,00:00:00,REGULAR,004636071,001577809,05-30-14,04:00:00,REGULAR,004636096,001577817,05-30-14,08:00:00,REGULAR,004636133,001577930,05-30-14,12:00:00,REGULAR,004636296,001578230,05-30-14,16:00:00,REGULAR,004636666,001578305,05-30-14,20:00:00,REGULAR,004637578,001578373                                                                                                                                                                ', 'A002,R051,02-00-01,05-24-14,00:00:00,REGULAR,004323889,000942444,05-24-14,04:00:00,REGULAR,004323917,000942452,05-24-14,08:00:00,REGULAR,004323934,000942469,05-24-14,12:00:00,REGULAR,004324035,000942519,05-24-14,16:00:00,REGULAR,004324240,000942570,05-24-14,20:00:00,REGULAR,004324511,000942599,05-25-14,00:00:00,REGULAR,004324698,000942635,05-25-14,04:00:00,REGULAR,004324723,000942642                                                                                                                  ', 'A002,R051,02-00-01,05-25-14,08:00:00,REGULAR,004324733,000942659,05-25-14,12:00:00,REGULAR,004324811,000942694,05-25-14,16:00:00,REGULAR,004324979,000942730,05-25-14,20:00:00,REGULAR,004325192,000942778,05-26-14,00:00:00,REGULAR,004325305,000942805,05-26-14,04:00:00,REGULAR,004325314,000942808,05-26-14,08:00:00,REGULAR,004325330,000942822,05-26-14,12:00:00,REGULAR,004325403,000942867                                                                                                                  ', 'A002,R051,02-00-01,05-26-14,16:00:00,REGULAR,004325515,000942909,05-26-14,20:00:00,REGULAR,004325764,000942955,05-27-14,00:00:00,REGULAR,004325888,000942987,05-27-14,04:00:00,REGULAR,004325903,000942990,05-27-14,08:00:00,REGULAR,004325935,000943041,05-27-14,09:12:04,DOOR OPEN,004326021,000943148,05-27-14,09:12:05,DOOR CLOSE,004326021,000943148,05-27-14,09:12:09,DOOR OPEN,004326021,000943148                                                                                                           ', 'A002,R051,02-00-01,05-27-14,09:13:32,DOOR OPEN,004326021,000943148,05-27-14,09:17:29,LOGON,004326021,000943148,05-27-14,09:26:32,LGF-MAN,004326025,000943148,05-27-14,09:26:49,DOOR CLOSE,004326025,000943148,05-27-14,12:00:00,REGULAR,004326119,000943221,05-27-14,16:00:00,REGULAR,004326402,000943276,05-27-14,20:00:00,REGULAR,004327159,000943339,05-28-14,00:00:00,REGULAR,004327317,000943361                                                                                                               ']\n"
       ]
      }
     ],
     "prompt_number": 14
    },
    {
     "cell_type": "code",
     "collapsed": false,
     "input": [
      "toy_file = open(\"shiny_new_file.txt\", \"w\")\n",
      "toy_file.write(\"test\\nblabla\\n\")\n",
      "toy_file = open(\"shiny_new_file.txt\", \"r\")\n",
      "content = toy_file.readlines()\n",
      "print content"
     ],
     "language": "python",
     "metadata": {},
     "outputs": [
      {
       "output_type": "stream",
       "stream": "stdout",
       "text": [
        "['test\\n', 'blabla\\n']\n"
       ]
      }
     ],
     "prompt_number": 24
    },
    {
     "cell_type": "code",
     "collapsed": false,
     "input": [
      "toy_file = open(\"shiny_new_file.txt\", \"r\")\n",
      "content = toy_file.read()\n",
      "print content"
     ],
     "language": "python",
     "metadata": {},
     "outputs": [
      {
       "output_type": "stream",
       "stream": "stdout",
       "text": [
        "test\n",
        "blabla\n",
        "\n"
       ]
      }
     ],
     "prompt_number": 25
    },
    {
     "cell_type": "code",
     "collapsed": false,
     "input": [
      "import urllib2 as urlib\n",
      "\n",
      "image = urlib.urlopen('http://media.dcentertainment.com/sites/default/files/GalleryChar_1900x900_watchmen_52ab8b7e8ff2a4.25965674.jpg')\n",
      "image_file = open('watchment.jpg', 'w')\n",
      "image_file.write(image.read())\n",
      "image_file.close()\n"
     ],
     "language": "python",
     "metadata": {},
     "outputs": [],
     "prompt_number": 26
    },
    {
     "cell_type": "code",
     "collapsed": false,
     "input": [
      "!open 'watchment.jpg'\n"
     ],
     "language": "python",
     "metadata": {},
     "outputs": [],
     "prompt_number": 27
    },
    {
     "cell_type": "code",
     "collapsed": false,
     "input": [
      "!wget http://media.dcentertainment.com/sites/default/files/GalleryChar_1900x900_watchmen_52ab8b7e8ff2a4.25965674.jpg"
     ],
     "language": "python",
     "metadata": {},
     "outputs": [
      {
       "output_type": "stream",
       "stream": "stdout",
       "text": [
        "--2014-09-03 10:32:31--  http://media.dcentertainment.com/sites/default/files/GalleryChar_1900x900_watchmen_52ab8b7e8ff2a4.25965674.jpg\r\n",
        "Resolving media.dcentertainment.com... 8.254.147.254, 8.26.206.252, 205.128.94.253\r\n",
        "Connecting to media.dcentertainment.com|8.254.147.254|:80... connected.\r\n",
        "HTTP request sent, awaiting response... "
       ]
      },
      {
       "output_type": "stream",
       "stream": "stdout",
       "text": [
        "200 OK\r\n",
        "Length: 183944 (180K) [image/jpeg]\r\n",
        "Saving to: 'GalleryChar_1900x900_watchmen_52ab8b7e8ff2a4.25965674.jpg'\r\n",
        "\r\n",
        "\r",
        " 0% [                                       ] 0           --.-K/s              "
       ]
      },
      {
       "output_type": "stream",
       "stream": "stdout",
       "text": [
        "\r",
        "100%[======================================>] 183,944     --.-K/s   in 0.05s   \r\n",
        "\r\n",
        "2014-09-03 10:32:31 (3.54 MB/s) - 'GalleryChar_1900x900_watchmen_52ab8b7e8ff2a4.25965674.jpg' saved [183944/183944]\r\n",
        "\r\n"
       ]
      }
     ],
     "prompt_number": 29
    },
    {
     "cell_type": "code",
     "collapsed": false,
     "input": [
      "mta1 = open('data/turnstile_140531.txt','r')\n",
      "my_list = []\n",
      "for line in mta1.read():\n",
      "    my_list.append(line)"
     ],
     "language": "python",
     "metadata": {},
     "outputs": [],
     "prompt_number": 39
    },
    {
     "cell_type": "code",
     "collapsed": false,
     "input": [
      "my_list"
     ],
     "language": "python",
     "metadata": {},
     "outputs": [
      {
       "ename": "KeyboardInterrupt",
       "evalue": "",
       "output_type": "pyerr",
       "traceback": [
        "\u001b[0;31m---------------------------------------------------------------------------\u001b[0m\n\u001b[0;31mKeyboardInterrupt\u001b[0m                         Traceback (most recent call last)",
        "\u001b[0;32m<ipython-input-40-b9f395265c26>\u001b[0m in \u001b[0;36m<module>\u001b[0;34m()\u001b[0m\n\u001b[0;32m----> 1\u001b[0;31m \u001b[0mmy_list\u001b[0m\u001b[0;34m\u001b[0m\u001b[0m\n\u001b[0m",
        "\u001b[0;32m/Users/Jeremie/Library/Enthought/Canopy_64bit/User/lib/python2.7/site-packages/IPython/core/displayhook.pyc\u001b[0m in \u001b[0;36m__call__\u001b[0;34m(self, result)\u001b[0m\n\u001b[1;32m    245\u001b[0m             \u001b[0mself\u001b[0m\u001b[0;34m.\u001b[0m\u001b[0mstart_displayhook\u001b[0m\u001b[0;34m(\u001b[0m\u001b[0;34m)\u001b[0m\u001b[0;34m\u001b[0m\u001b[0m\n\u001b[1;32m    246\u001b[0m             \u001b[0mself\u001b[0m\u001b[0;34m.\u001b[0m\u001b[0mwrite_output_prompt\u001b[0m\u001b[0;34m(\u001b[0m\u001b[0;34m)\u001b[0m\u001b[0;34m\u001b[0m\u001b[0m\n\u001b[0;32m--> 247\u001b[0;31m             \u001b[0mformat_dict\u001b[0m\u001b[0;34m,\u001b[0m \u001b[0mmd_dict\u001b[0m \u001b[0;34m=\u001b[0m \u001b[0mself\u001b[0m\u001b[0;34m.\u001b[0m\u001b[0mcompute_format_data\u001b[0m\u001b[0;34m(\u001b[0m\u001b[0mresult\u001b[0m\u001b[0;34m)\u001b[0m\u001b[0;34m\u001b[0m\u001b[0m\n\u001b[0m\u001b[1;32m    248\u001b[0m             \u001b[0mself\u001b[0m\u001b[0;34m.\u001b[0m\u001b[0mwrite_format_data\u001b[0m\u001b[0;34m(\u001b[0m\u001b[0mformat_dict\u001b[0m\u001b[0;34m,\u001b[0m \u001b[0mmd_dict\u001b[0m\u001b[0;34m)\u001b[0m\u001b[0;34m\u001b[0m\u001b[0m\n\u001b[1;32m    249\u001b[0m             \u001b[0mself\u001b[0m\u001b[0;34m.\u001b[0m\u001b[0mupdate_user_ns\u001b[0m\u001b[0;34m(\u001b[0m\u001b[0mresult\u001b[0m\u001b[0;34m)\u001b[0m\u001b[0;34m\u001b[0m\u001b[0m\n",
        "\u001b[0;32m/Users/Jeremie/Library/Enthought/Canopy_64bit/User/lib/python2.7/site-packages/IPython/core/displayhook.pyc\u001b[0m in \u001b[0;36mcompute_format_data\u001b[0;34m(self, result)\u001b[0m\n\u001b[1;32m    155\u001b[0m \u001b[0;34m\u001b[0m\u001b[0m\n\u001b[1;32m    156\u001b[0m         \"\"\"\n\u001b[0;32m--> 157\u001b[0;31m         \u001b[0;32mreturn\u001b[0m \u001b[0mself\u001b[0m\u001b[0;34m.\u001b[0m\u001b[0mshell\u001b[0m\u001b[0;34m.\u001b[0m\u001b[0mdisplay_formatter\u001b[0m\u001b[0;34m.\u001b[0m\u001b[0mformat\u001b[0m\u001b[0;34m(\u001b[0m\u001b[0mresult\u001b[0m\u001b[0;34m)\u001b[0m\u001b[0;34m\u001b[0m\u001b[0m\n\u001b[0m\u001b[1;32m    158\u001b[0m \u001b[0;34m\u001b[0m\u001b[0m\n\u001b[1;32m    159\u001b[0m     \u001b[0;32mdef\u001b[0m \u001b[0mwrite_format_data\u001b[0m\u001b[0;34m(\u001b[0m\u001b[0mself\u001b[0m\u001b[0;34m,\u001b[0m \u001b[0mformat_dict\u001b[0m\u001b[0;34m,\u001b[0m \u001b[0mmd_dict\u001b[0m\u001b[0;34m=\u001b[0m\u001b[0mNone\u001b[0m\u001b[0;34m)\u001b[0m\u001b[0;34m:\u001b[0m\u001b[0;34m\u001b[0m\u001b[0m\n",
        "\u001b[0;32m/Users/Jeremie/Library/Enthought/Canopy_64bit/User/lib/python2.7/site-packages/IPython/core/formatters.pyc\u001b[0m in \u001b[0;36mformat\u001b[0;34m(self, obj, include, exclude)\u001b[0m\n\u001b[1;32m    150\u001b[0m             \u001b[0mmd\u001b[0m \u001b[0;34m=\u001b[0m \u001b[0mNone\u001b[0m\u001b[0;34m\u001b[0m\u001b[0m\n\u001b[1;32m    151\u001b[0m             \u001b[0;32mtry\u001b[0m\u001b[0;34m:\u001b[0m\u001b[0;34m\u001b[0m\u001b[0m\n\u001b[0;32m--> 152\u001b[0;31m                 \u001b[0mdata\u001b[0m \u001b[0;34m=\u001b[0m \u001b[0mformatter\u001b[0m\u001b[0;34m(\u001b[0m\u001b[0mobj\u001b[0m\u001b[0;34m)\u001b[0m\u001b[0;34m\u001b[0m\u001b[0m\n\u001b[0m\u001b[1;32m    153\u001b[0m             \u001b[0;32mexcept\u001b[0m\u001b[0;34m:\u001b[0m\u001b[0;34m\u001b[0m\u001b[0m\n\u001b[1;32m    154\u001b[0m                 \u001b[0;31m# FIXME: log the exception\u001b[0m\u001b[0;34m\u001b[0m\u001b[0;34m\u001b[0m\u001b[0m\n",
        "\u001b[0;32m/Users/Jeremie/Library/Enthought/Canopy_64bit/User/lib/python2.7/site-packages/IPython/core/formatters.pyc\u001b[0m in \u001b[0;36m__call__\u001b[0;34m(self, obj)\u001b[0m\n\u001b[1;32m    479\u001b[0m                 \u001b[0mtype_pprinters\u001b[0m\u001b[0;34m=\u001b[0m\u001b[0mself\u001b[0m\u001b[0;34m.\u001b[0m\u001b[0mtype_printers\u001b[0m\u001b[0;34m,\u001b[0m\u001b[0;34m\u001b[0m\u001b[0m\n\u001b[1;32m    480\u001b[0m                 deferred_pprinters=self.deferred_printers)\n\u001b[0;32m--> 481\u001b[0;31m             \u001b[0mprinter\u001b[0m\u001b[0;34m.\u001b[0m\u001b[0mpretty\u001b[0m\u001b[0;34m(\u001b[0m\u001b[0mobj\u001b[0m\u001b[0;34m)\u001b[0m\u001b[0;34m\u001b[0m\u001b[0m\n\u001b[0m\u001b[1;32m    482\u001b[0m             \u001b[0mprinter\u001b[0m\u001b[0;34m.\u001b[0m\u001b[0mflush\u001b[0m\u001b[0;34m(\u001b[0m\u001b[0;34m)\u001b[0m\u001b[0;34m\u001b[0m\u001b[0m\n\u001b[1;32m    483\u001b[0m             \u001b[0;32mreturn\u001b[0m \u001b[0mstream\u001b[0m\u001b[0;34m.\u001b[0m\u001b[0mgetvalue\u001b[0m\u001b[0;34m(\u001b[0m\u001b[0;34m)\u001b[0m\u001b[0;34m\u001b[0m\u001b[0m\n",
        "\u001b[0;32m/Users/Jeremie/Library/Enthought/Canopy_64bit/User/lib/python2.7/site-packages/IPython/lib/pretty.pyc\u001b[0m in \u001b[0;36mpretty\u001b[0;34m(self, obj)\u001b[0m\n\u001b[1;32m    345\u001b[0m                 \u001b[0;32mif\u001b[0m \u001b[0mcls\u001b[0m \u001b[0;32min\u001b[0m \u001b[0mself\u001b[0m\u001b[0;34m.\u001b[0m\u001b[0mtype_pprinters\u001b[0m\u001b[0;34m:\u001b[0m\u001b[0;34m\u001b[0m\u001b[0m\n\u001b[1;32m    346\u001b[0m                     \u001b[0;31m# printer registered in self.type_pprinters\u001b[0m\u001b[0;34m\u001b[0m\u001b[0;34m\u001b[0m\u001b[0m\n\u001b[0;32m--> 347\u001b[0;31m                     \u001b[0;32mreturn\u001b[0m \u001b[0mself\u001b[0m\u001b[0;34m.\u001b[0m\u001b[0mtype_pprinters\u001b[0m\u001b[0;34m[\u001b[0m\u001b[0mcls\u001b[0m\u001b[0;34m]\u001b[0m\u001b[0;34m(\u001b[0m\u001b[0mobj\u001b[0m\u001b[0;34m,\u001b[0m \u001b[0mself\u001b[0m\u001b[0;34m,\u001b[0m \u001b[0mcycle\u001b[0m\u001b[0;34m)\u001b[0m\u001b[0;34m\u001b[0m\u001b[0m\n\u001b[0m\u001b[1;32m    348\u001b[0m                 \u001b[0;32melse\u001b[0m\u001b[0;34m:\u001b[0m\u001b[0;34m\u001b[0m\u001b[0m\n\u001b[1;32m    349\u001b[0m                     \u001b[0;31m# deferred printer\u001b[0m\u001b[0;34m\u001b[0m\u001b[0;34m\u001b[0m\u001b[0m\n",
        "\u001b[0;32m/Users/Jeremie/Library/Enthought/Canopy_64bit/User/lib/python2.7/site-packages/IPython/lib/pretty.pyc\u001b[0m in \u001b[0;36minner\u001b[0;34m(obj, p, cycle)\u001b[0m\n\u001b[1;32m    529\u001b[0m                 \u001b[0mp\u001b[0m\u001b[0;34m.\u001b[0m\u001b[0mtext\u001b[0m\u001b[0;34m(\u001b[0m\u001b[0;34m','\u001b[0m\u001b[0;34m)\u001b[0m\u001b[0;34m\u001b[0m\u001b[0m\n\u001b[1;32m    530\u001b[0m                 \u001b[0mp\u001b[0m\u001b[0;34m.\u001b[0m\u001b[0mbreakable\u001b[0m\u001b[0;34m(\u001b[0m\u001b[0;34m)\u001b[0m\u001b[0;34m\u001b[0m\u001b[0m\n\u001b[0;32m--> 531\u001b[0;31m             \u001b[0mp\u001b[0m\u001b[0;34m.\u001b[0m\u001b[0mpretty\u001b[0m\u001b[0;34m(\u001b[0m\u001b[0mx\u001b[0m\u001b[0;34m)\u001b[0m\u001b[0;34m\u001b[0m\u001b[0m\n\u001b[0m\u001b[1;32m    532\u001b[0m         \u001b[0;32mif\u001b[0m \u001b[0mlen\u001b[0m\u001b[0;34m(\u001b[0m\u001b[0mobj\u001b[0m\u001b[0;34m)\u001b[0m \u001b[0;34m==\u001b[0m \u001b[0;36m1\u001b[0m \u001b[0;32mand\u001b[0m \u001b[0mtype\u001b[0m\u001b[0;34m(\u001b[0m\u001b[0mobj\u001b[0m\u001b[0;34m)\u001b[0m \u001b[0;32mis\u001b[0m \u001b[0mtuple\u001b[0m\u001b[0;34m:\u001b[0m\u001b[0;34m\u001b[0m\u001b[0m\n\u001b[1;32m    533\u001b[0m             \u001b[0;31m# Special case for 1-item tuples.\u001b[0m\u001b[0;34m\u001b[0m\u001b[0;34m\u001b[0m\u001b[0m\n",
        "\u001b[0;32m/Users/Jeremie/Library/Enthought/Canopy_64bit/User/lib/python2.7/site-packages/IPython/lib/pretty.pyc\u001b[0m in \u001b[0;36mpretty\u001b[0;34m(self, obj)\u001b[0m\n\u001b[1;32m    362\u001b[0m             \u001b[0;32mreturn\u001b[0m \u001b[0m_default_pprint\u001b[0m\u001b[0;34m(\u001b[0m\u001b[0mobj\u001b[0m\u001b[0;34m,\u001b[0m \u001b[0mself\u001b[0m\u001b[0;34m,\u001b[0m \u001b[0mcycle\u001b[0m\u001b[0;34m)\u001b[0m\u001b[0;34m\u001b[0m\u001b[0m\n\u001b[1;32m    363\u001b[0m         \u001b[0;32mfinally\u001b[0m\u001b[0;34m:\u001b[0m\u001b[0;34m\u001b[0m\u001b[0m\n\u001b[0;32m--> 364\u001b[0;31m             \u001b[0mself\u001b[0m\u001b[0;34m.\u001b[0m\u001b[0mend_group\u001b[0m\u001b[0;34m(\u001b[0m\u001b[0;34m)\u001b[0m\u001b[0;34m\u001b[0m\u001b[0m\n\u001b[0m\u001b[1;32m    365\u001b[0m             \u001b[0mself\u001b[0m\u001b[0;34m.\u001b[0m\u001b[0mstack\u001b[0m\u001b[0;34m.\u001b[0m\u001b[0mpop\u001b[0m\u001b[0;34m(\u001b[0m\u001b[0;34m)\u001b[0m\u001b[0;34m\u001b[0m\u001b[0m\n\u001b[1;32m    366\u001b[0m \u001b[0;34m\u001b[0m\u001b[0m\n",
        "\u001b[0;32m/Users/Jeremie/Library/Enthought/Canopy_64bit/User/lib/python2.7/site-packages/IPython/lib/pretty.pyc\u001b[0m in \u001b[0;36mend_group\u001b[0;34m(self, dedent, close)\u001b[0m\n\u001b[1;32m    262\u001b[0m         \u001b[0mgroup\u001b[0m \u001b[0;34m=\u001b[0m \u001b[0mself\u001b[0m\u001b[0;34m.\u001b[0m\u001b[0mgroup_stack\u001b[0m\u001b[0;34m.\u001b[0m\u001b[0mpop\u001b[0m\u001b[0;34m(\u001b[0m\u001b[0;34m)\u001b[0m\u001b[0;34m\u001b[0m\u001b[0m\n\u001b[1;32m    263\u001b[0m         \u001b[0;32mif\u001b[0m \u001b[0;32mnot\u001b[0m \u001b[0mgroup\u001b[0m\u001b[0;34m.\u001b[0m\u001b[0mbreakables\u001b[0m\u001b[0;34m:\u001b[0m\u001b[0;34m\u001b[0m\u001b[0m\n\u001b[0;32m--> 264\u001b[0;31m             \u001b[0mself\u001b[0m\u001b[0;34m.\u001b[0m\u001b[0mgroup_queue\u001b[0m\u001b[0;34m.\u001b[0m\u001b[0mremove\u001b[0m\u001b[0;34m(\u001b[0m\u001b[0mgroup\u001b[0m\u001b[0;34m)\u001b[0m\u001b[0;34m\u001b[0m\u001b[0m\n\u001b[0m\u001b[1;32m    265\u001b[0m         \u001b[0;32mif\u001b[0m \u001b[0mclose\u001b[0m\u001b[0;34m:\u001b[0m\u001b[0;34m\u001b[0m\u001b[0m\n\u001b[1;32m    266\u001b[0m             \u001b[0mself\u001b[0m\u001b[0;34m.\u001b[0m\u001b[0mtext\u001b[0m\u001b[0;34m(\u001b[0m\u001b[0mclose\u001b[0m\u001b[0;34m)\u001b[0m\u001b[0;34m\u001b[0m\u001b[0m\n",
        "\u001b[0;32m/Users/Jeremie/Library/Enthought/Canopy_64bit/User/lib/python2.7/site-packages/IPython/lib/pretty.pyc\u001b[0m in \u001b[0;36mremove\u001b[0;34m(self, group)\u001b[0m\n\u001b[1;32m    462\u001b[0m     \u001b[0;32mdef\u001b[0m \u001b[0mremove\u001b[0m\u001b[0;34m(\u001b[0m\u001b[0mself\u001b[0m\u001b[0;34m,\u001b[0m \u001b[0mgroup\u001b[0m\u001b[0;34m)\u001b[0m\u001b[0;34m:\u001b[0m\u001b[0;34m\u001b[0m\u001b[0m\n\u001b[1;32m    463\u001b[0m         \u001b[0;32mtry\u001b[0m\u001b[0;34m:\u001b[0m\u001b[0;34m\u001b[0m\u001b[0m\n\u001b[0;32m--> 464\u001b[0;31m             \u001b[0mself\u001b[0m\u001b[0;34m.\u001b[0m\u001b[0mqueue\u001b[0m\u001b[0;34m[\u001b[0m\u001b[0mgroup\u001b[0m\u001b[0;34m.\u001b[0m\u001b[0mdepth\u001b[0m\u001b[0;34m]\u001b[0m\u001b[0;34m.\u001b[0m\u001b[0mremove\u001b[0m\u001b[0;34m(\u001b[0m\u001b[0mgroup\u001b[0m\u001b[0;34m)\u001b[0m\u001b[0;34m\u001b[0m\u001b[0m\n\u001b[0m\u001b[1;32m    465\u001b[0m         \u001b[0;32mexcept\u001b[0m \u001b[0mValueError\u001b[0m\u001b[0;34m:\u001b[0m\u001b[0;34m\u001b[0m\u001b[0m\n\u001b[1;32m    466\u001b[0m             \u001b[0;32mpass\u001b[0m\u001b[0;34m\u001b[0m\u001b[0m\n",
        "\u001b[0;31mKeyboardInterrupt\u001b[0m: "
       ]
      }
     ],
     "prompt_number": 40
    },
    {
     "cell_type": "code",
     "collapsed": false,
     "input": [
      "import csv\n",
      "first_file = !head data/turnstile_140531.txt\n",
      "output_file = open('output.txt','w')\n",
      "reader = csv.reader(first_file)\n",
      "for num, row in enumerate(reader):\n",
      "    print >> output_file, num, ', '.join(row)"
     ],
     "language": "python",
     "metadata": {},
     "outputs": [],
     "prompt_number": 55
    },
    {
     "cell_type": "code",
     "collapsed": false,
     "input": [
      "\n",
      "output_file = open('output.txt','r')\n",
      "stations = {}\n",
      "for line in output_file:\n",
      "    line_as_list = line.split(',')\n",
      "    station = line_as_list[0],line_as_list[1]\n",
      "    stations[station] = {}\n",
      "    for i in range(2, len(line_as_list), 6):\n",
      "        stations[station][d\n",
      "        \n",
      "print output_file.read()"
     ],
     "language": "python",
     "metadata": {},
     "outputs": [
      {
       "output_type": "stream",
       "stream": "stdout",
       "text": [
        "0 A002, R051, 02-00-00, 05-24-14, 00:00:00, REGULAR, 004628594, 001575370, 05-24-14, 04:00:00, REGULAR, 004628629, 001575374, 05-24-14, 08:00:00, REGULAR, 004628642, 001575387, 05-24-14, 12:00:00, REGULAR, 004628736, 001575468, 05-24-14, 16:00:00, REGULAR, 004628991, 001575545, 05-24-14, 20:00:00, REGULAR, 004629248, 001575602, 05-25-14, 00:00:00, REGULAR, 004629431, 001575636, 05-25-14, 04:00:00, REGULAR, 004629465, 001575643                                                                                                                  \n",
        "1 A002, R051, 02-00-00, 05-25-14, 08:00:00, REGULAR, 004629483, 001575664, 05-25-14, 12:00:00, REGULAR, 004629560, 001575730, 05-25-14, 16:00:00, REGULAR, 004629760, 001575773, 05-25-14, 20:00:00, REGULAR, 004629984, 001575835, 05-26-14, 00:00:00, REGULAR, 004630115, 001575873, 05-26-14, 04:00:00, REGULAR, 004630133, 001575884, 05-26-14, 08:00:00, REGULAR, 004630148, 001575915, 05-26-14, 12:00:00, REGULAR, 004630235, 001576000                                                                                                                  \n",
        "2 A002, R051, 02-00-00, 05-26-14, 16:00:00, REGULAR, 004630481, 001576049, 05-26-14, 20:00:00, REGULAR, 004630756, 001576103, 05-27-14, 00:00:00, REGULAR, 004630919, 001576150, 05-27-14, 04:00:00, REGULAR, 004630946, 001576154, 05-27-14, 08:00:00, REGULAR, 004630978, 001576277, 05-27-14, 08:53:11, DOOR OPEN, 004631024, 001576407, 05-27-14, 08:53:19, DOOR OPEN, 004631024, 001576407, 05-27-14, 09:05:08, LOGON, 004631024, 001576407                                                                                                                \n",
        "3 A002, R051, 02-00-00, 05-27-14, 09:11:10, LGF-MAN, 004631028, 001576408, 05-27-14, 09:11:32, DOOR CLOSE, 004631028, 001576408, 05-27-14, 12:00:00, REGULAR, 004631168, 001576565, 05-27-14, 16:00:00, REGULAR, 004631501, 001576639, 05-27-14, 20:00:00, REGULAR, 004632370, 001576697, 05-28-14, 00:00:00, REGULAR, 004632583, 001576719, 05-28-14, 04:00:00, REGULAR, 004632595, 001576721, 05-28-14, 08:00:00, REGULAR, 004632643, 001576812                                                                                                               \n",
        "4 A002, R051, 02-00-00, 05-28-14, 12:00:00, REGULAR, 004632818, 001577064, 05-28-14, 16:00:00, REGULAR, 004633111, 001577127, 05-28-14, 20:00:00, REGULAR, 004634009, 001577215, 05-29-14, 00:00:00, REGULAR, 004634244, 001577233, 05-29-14, 04:00:00, REGULAR, 004634268, 001577240, 05-29-14, 08:00:00, REGULAR, 004634322, 001577356, 05-29-14, 12:00:00, REGULAR, 004634496, 001577644, 05-29-14, 16:00:00, REGULAR, 004634837, 001577711                                                                                                                  \n",
        "5 A002, R051, 02-00-00, 05-29-14, 20:00:00, REGULAR, 004635796, 001577785, 05-30-14, 00:00:00, REGULAR, 004636071, 001577809, 05-30-14, 04:00:00, REGULAR, 004636096, 001577817, 05-30-14, 08:00:00, REGULAR, 004636133, 001577930, 05-30-14, 12:00:00, REGULAR, 004636296, 001578230, 05-30-14, 16:00:00, REGULAR, 004636666, 001578305, 05-30-14, 20:00:00, REGULAR, 004637578, 001578373                                                                                                                                                                \n",
        "6 A002, R051, 02-00-01, 05-24-14, 00:00:00, REGULAR, 004323889, 000942444, 05-24-14, 04:00:00, REGULAR, 004323917, 000942452, 05-24-14, 08:00:00, REGULAR, 004323934, 000942469, 05-24-14, 12:00:00, REGULAR, 004324035, 000942519, 05-24-14, 16:00:00, REGULAR, 004324240, 000942570, 05-24-14, 20:00:00, REGULAR, 004324511, 000942599, 05-25-14, 00:00:00, REGULAR, 004324698, 000942635, 05-25-14, 04:00:00, REGULAR, 004324723, 000942642                                                                                                                  \n",
        "7 A002, R051, 02-00-01, 05-25-14, 08:00:00, REGULAR, 004324733, 000942659, 05-25-14, 12:00:00, REGULAR, 004324811, 000942694, 05-25-14, 16:00:00, REGULAR, 004324979, 000942730, 05-25-14, 20:00:00, REGULAR, 004325192, 000942778, 05-26-14, 00:00:00, REGULAR, 004325305, 000942805, 05-26-14, 04:00:00, REGULAR, 004325314, 000942808, 05-26-14, 08:00:00, REGULAR, 004325330, 000942822, 05-26-14, 12:00:00, REGULAR, 004325403, 000942867                                                                                                                  \n",
        "8 A002, R051, 02-00-01, 05-26-14, 16:00:00, REGULAR, 004325515, 000942909, 05-26-14, 20:00:00, REGULAR, 004325764, 000942955, 05-27-14, 00:00:00, REGULAR, 004325888, 000942987, 05-27-14, 04:00:00, REGULAR, 004325903, 000942990, 05-27-14, 08:00:00, REGULAR, 004325935, 000943041, 05-27-14, 09:12:04, DOOR OPEN, 004326021, 000943148, 05-27-14, 09:12:05, DOOR CLOSE, 004326021, 000943148, 05-27-14, 09:12:09, DOOR OPEN, 004326021, 000943148                                                                                                           \n",
        "9 A002, R051, 02-00-01, 05-27-14, 09:13:32, DOOR OPEN, 004326021, 000943148, 05-27-14, 09:17:29, LOGON, 004326021, 000943148, 05-27-14, 09:26:32, LGF-MAN, 004326025, 000943148, 05-27-14, 09:26:49, DOOR CLOSE, 004326025, 000943148, 05-27-14, 12:00:00, REGULAR, 004326119, 000943221, 05-27-14, 16:00:00, REGULAR, 004326402, 000943276, 05-27-14, 20:00:00, REGULAR, 004327159, 000943339, 05-28-14, 00:00:00, REGULAR, 004327317, 000943361                                                                                                               \n",
        "\n"
       ]
      }
     ],
     "prompt_number": 56
    },
    {
     "cell_type": "code",
     "collapsed": false,
     "input": [
      "filenames = mta.get_glob()  \n",
      "ts = mta.extract_turnstile_data_from_csvs(filenames)  \n",
      "print len(ts)"
     ],
     "language": "python",
     "metadata": {},
     "outputs": [
      {
       "ename": "NameError",
       "evalue": "name 'mta' is not defined",
       "output_type": "pyerr",
       "traceback": [
        "\u001b[0;31m---------------------------------------------------------------------------\u001b[0m\n\u001b[0;31mNameError\u001b[0m                                 Traceback (most recent call last)",
        "\u001b[0;32m<ipython-input-58-b66fd5bea2a3>\u001b[0m in \u001b[0;36m<module>\u001b[0;34m()\u001b[0m\n\u001b[0;32m----> 1\u001b[0;31m \u001b[0mfilenames\u001b[0m \u001b[0;34m=\u001b[0m \u001b[0mmta\u001b[0m\u001b[0;34m.\u001b[0m\u001b[0mget_glob\u001b[0m\u001b[0;34m(\u001b[0m\u001b[0;34m)\u001b[0m\u001b[0;34m\u001b[0m\u001b[0m\n\u001b[0m\u001b[1;32m      2\u001b[0m \u001b[0mts\u001b[0m \u001b[0;34m=\u001b[0m \u001b[0mmta\u001b[0m\u001b[0;34m.\u001b[0m\u001b[0mextract_turnstile_data_from_csvs\u001b[0m\u001b[0;34m(\u001b[0m\u001b[0mfilenames\u001b[0m\u001b[0;34m)\u001b[0m\u001b[0;34m\u001b[0m\u001b[0m\n\u001b[1;32m      3\u001b[0m \u001b[0;32mprint\u001b[0m \u001b[0mlen\u001b[0m\u001b[0;34m(\u001b[0m\u001b[0mts\u001b[0m\u001b[0;34m)\u001b[0m\u001b[0;34m\u001b[0m\u001b[0m\n",
        "\u001b[0;31mNameError\u001b[0m: name 'mta' is not defined"
       ]
      }
     ],
     "prompt_number": 58
    },
    {
     "cell_type": "code",
     "collapsed": false,
     "input": [
      "import mta\n",
      "filenames = mta.get_glob()  \n",
      "ts = mta.extract_turnstile_data_from_csvs(filenames)  \n",
      "print len(ts)"
     ],
     "language": "python",
     "metadata": {},
     "outputs": [
      {
       "output_type": "stream",
       "stream": "stdout",
       "text": [
        "extracting  data/turnstile_140531.txt\n",
        "extracting "
       ]
      },
      {
       "output_type": "stream",
       "stream": "stdout",
       "text": [
        " data/turnstile_140607.txt\n",
        "extracting "
       ]
      },
      {
       "output_type": "stream",
       "stream": "stdout",
       "text": [
        " data/turnstile_140614.txt\n",
        "extracting "
       ]
      },
      {
       "output_type": "stream",
       "stream": "stdout",
       "text": [
        " data/turnstile_140621.txt\n",
        "extracting "
       ]
      },
      {
       "output_type": "stream",
       "stream": "stdout",
       "text": [
        " data/turnstile_140628.txt\n",
        "extracting "
       ]
      },
      {
       "output_type": "stream",
       "stream": "stdout",
       "text": [
        " data/turnstile_140705.txt\n",
        "extracting "
       ]
      },
      {
       "output_type": "stream",
       "stream": "stdout",
       "text": [
        " data/turnstile_140712.txt\n",
        "extracting "
       ]
      },
      {
       "output_type": "stream",
       "stream": "stdout",
       "text": [
        " data/turnstile_140719.txt\n",
        "extracting "
       ]
      },
      {
       "output_type": "stream",
       "stream": "stdout",
       "text": [
        " data/turnstile_140726.txt\n",
        "extracting "
       ]
      },
      {
       "output_type": "stream",
       "stream": "stdout",
       "text": [
        " data/turnstile_140802.txt\n",
        "extracting "
       ]
      },
      {
       "output_type": "stream",
       "stream": "stdout",
       "text": [
        " data/turnstile_140809.txt\n",
        "extracting "
       ]
      },
      {
       "output_type": "stream",
       "stream": "stdout",
       "text": [
        " data/turnstile_140816.txt\n",
        "extracting "
       ]
      },
      {
       "output_type": "stream",
       "stream": "stdout",
       "text": [
        " data/turnstile_140823.txt\n",
        "extracting "
       ]
      },
      {
       "output_type": "stream",
       "stream": "stdout",
       "text": [
        " data/turnstile_140830.txt\n",
        "4547"
       ]
      },
      {
       "output_type": "stream",
       "stream": "stdout",
       "text": [
        "\n"
       ]
      }
     ],
     "prompt_number": 2
    },
    {
     "cell_type": "code",
     "collapsed": false,
     "input": [
      "ts"
     ],
     "language": "python",
     "metadata": {},
     "outputs": [],
     "prompt_number": 60
    },
    {
     "cell_type": "code",
     "collapsed": false,
     "input": [
      "print(len(ts))"
     ],
     "language": "python",
     "metadata": {},
     "outputs": [
      {
       "output_type": "stream",
       "stream": "stdout",
       "text": [
        "4547\n"
       ]
      }
     ],
     "prompt_number": 61
    },
    {
     "cell_type": "code",
     "collapsed": false,
     "input": [
      "import numpy as np\n",
      "from collections import defaultdict\n",
      "\n",
      "items = ts.iteritems()\n",
      "\n",
      "turnstile_counts = defaultdict(list)\n",
      "print 'calculating turnstile counts for %d turnstiles.'%len(ts.items())\n",
      "\n",
      "turnstile,tlist = ts.iteritems().next()\n",
      "    \n",
      "tlist = np.array(tlist).reshape(len(tlist)/5,5)\n",
      "days = sorted(list(set(tlist[:,0])))\n",
      "\n",
      "print tlist\n",
      "print days"
     ],
     "language": "python",
     "metadata": {},
     "outputs": [
      {
       "output_type": "stream",
       "stream": "stdout",
       "text": [
        "calculating turnstile counts for 4547 turnstiles.\n",
        "[['05-24-14' '01:00:00' 'REGULAR' '006080239' '003391809']\n",
        " ['05-24-14' '05:00:00' 'REGULAR' '006080265' '003391857']\n",
        " ['05-24-14' '09:00:00' 'REGULAR' '006080502' '003391918']\n",
        " ..., \n",
        " ['08-29-14' '13:00:00' 'REGULAR' '006344844'\n",
        "  '003512458                                                                                                                  ']\n",
        " ['08-29-14' '17:00:00' 'REGULAR' '006345516' '003512876']\n",
        " ['08-29-14' '21:00:00' 'REGULAR' '006346011'\n",
        "  '003513224                                                                                                                                                                                                                                                                                                                                                                                                      ']]\n",
        "['05-24-14', '05-25-14', '05-26-14', '05-27-14', '05-28-14', '05-29-14', '05-30-14', '05-31-14', '06-01-14', '06-02-14', '06-03-14', '06-04-14', '06-05-14', '06-06-14', '06-07-14', '06-08-14', '06-09-14', '06-10-14', '06-11-14', '06-12-14', '06-13-14', '06-14-14', '06-15-14', '06-16-14', '06-17-14', '06-18-14', '06-19-14', '06-20-14', '06-21-14', '06-22-14', '06-23-14', '06-24-14', '06-25-14', '06-26-14', '06-27-14', '06-28-14', '06-29-14', '06-30-14', '07-01-14', '07-02-14', '07-03-14', '07-04-14', '07-05-14', '07-06-14', '07-07-14', '07-08-14', '07-09-14', '07-10-14', '07-11-14', '07-12-14', '07-13-14', '07-14-14', '07-15-14', '07-16-14', '07-17-14', '07-18-14', '07-19-14', '07-20-14', '07-21-14', '07-22-14', '07-23-14', '07-24-14', '07-25-14', '07-26-14', '07-27-14', '07-28-14', '07-29-14', '07-30-14', '07-31-14', '08-01-14', '08-02-14', '08-03-14', '08-04-14', '08-05-14', '08-06-14', '08-07-14', '08-08-14', '08-09-14', '08-10-14', '08-11-14', '08-12-14', '08-13-14', '08-14-14', '08-15-14', '08-16-14', '08-17-14', '08-18-14', '08-19-14', '08-20-14', '08-21-14', '08-22-14', '08-23-14', '08-24-14', '08-25-14', '08-26-14', '08-27-14', '08-28-14', '08-29-14']\n"
       ]
      }
     ],
     "prompt_number": 4
    },
    {
     "cell_type": "code",
     "collapsed": false,
     "input": [
      "turnstile_data = mta.get_ts_counts_fastawesome(ts)"
     ],
     "language": "python",
     "metadata": {},
     "outputs": [
      {
       "output_type": "stream",
       "stream": "stdout",
       "text": [
        "calculating turnstile counts for 4547 turnstiles.\n"
       ]
      }
     ],
     "prompt_number": 64
    },
    {
     "cell_type": "code",
     "collapsed": false,
     "input": [
      "import operator\n",
      "print max(turnstile_data.iteritems(), key=operator.itemgetter(1))[0]\n"
     ],
     "language": "python",
     "metadata": {},
     "outputs": [
      {
       "output_type": "stream",
       "stream": "stdout",
       "text": [
        "('N405', 'R239', '00-06-03')\n"
       ]
      }
     ],
     "prompt_number": 69
    },
    {
     "cell_type": "code",
     "collapsed": false,
     "input": [
      "max(turnstile_data.iteritems().next()[1], key=operator.itemgetter(1))"
     ],
     "language": "python",
     "metadata": {},
     "outputs": [
      {
       "metadata": {},
       "output_type": "pyout",
       "prompt_number": 75,
       "text": [
        "(datetime.datetime(2014, 8, 21, 0, 0), 5136)"
       ]
      }
     ],
     "prompt_number": 75
    },
    {
     "cell_type": "code",
     "collapsed": false,
     "input": [
      "turnstile_data.iteritems().next()\n"
     ],
     "language": "python",
     "metadata": {},
     "outputs": [
      {
       "metadata": {},
       "output_type": "pyout",
       "prompt_number": 72,
       "text": [
        "(('R252', 'R180', '00-00-03'),\n",
        " [(datetime.datetime(2014, 5, 24, 0, 0), 1703),\n",
        "  (datetime.datetime(2014, 5, 25, 0, 0), 1608),\n",
        "  (datetime.datetime(2014, 5, 26, 0, 0), 1911),\n",
        "  (datetime.datetime(2014, 5, 27, 0, 0), 2833),\n",
        "  (datetime.datetime(2014, 5, 28, 0, 0), 2922),\n",
        "  (datetime.datetime(2014, 5, 29, 0, 0), 3403),\n",
        "  (datetime.datetime(2014, 5, 30, 0, 0), 4701),\n",
        "  (datetime.datetime(2014, 5, 31, 0, 0), 3687),\n",
        "  (datetime.datetime(2014, 6, 1, 0, 0), 2015),\n",
        "  (datetime.datetime(2014, 6, 2, 0, 0), 3558),\n",
        "  (datetime.datetime(2014, 6, 3, 0, 0), 2575),\n",
        "  (datetime.datetime(2014, 6, 4, 0, 0), 3403),\n",
        "  (datetime.datetime(2014, 6, 5, 0, 0), 2556),\n",
        "  (datetime.datetime(2014, 6, 6, 0, 0), 2318),\n",
        "  (datetime.datetime(2014, 6, 7, 0, 0), 2658),\n",
        "  (datetime.datetime(2014, 6, 8, 0, 0), 1787),\n",
        "  (datetime.datetime(2014, 6, 9, 0, 0), 2878),\n",
        "  (datetime.datetime(2014, 6, 10, 0, 0), 3413),\n",
        "  (datetime.datetime(2014, 6, 11, 0, 0), 2822),\n",
        "  (datetime.datetime(2014, 6, 12, 0, 0), 2497),\n",
        "  (datetime.datetime(2014, 6, 13, 0, 0), 3174),\n",
        "  (datetime.datetime(2014, 6, 14, 0, 0), 2050),\n",
        "  (datetime.datetime(2014, 6, 15, 0, 0), 1629),\n",
        "  (datetime.datetime(2014, 6, 16, 0, 0), 4492),\n",
        "  (datetime.datetime(2014, 6, 17, 0, 0), 3249),\n",
        "  (datetime.datetime(2014, 6, 18, 0, 0), 3255),\n",
        "  (datetime.datetime(2014, 6, 19, 0, 0), 3336),\n",
        "  (datetime.datetime(2014, 6, 20, 0, 0), 3388),\n",
        "  (datetime.datetime(2014, 6, 21, 0, 0), 2013),\n",
        "  (datetime.datetime(2014, 6, 22, 0, 0), 1537),\n",
        "  (datetime.datetime(2014, 6, 23, 0, 0), 2854),\n",
        "  (datetime.datetime(2014, 6, 24, 0, 0), 3071),\n",
        "  (datetime.datetime(2014, 6, 25, 0, 0), 3112),\n",
        "  (datetime.datetime(2014, 6, 26, 0, 0), 3183),\n",
        "  (datetime.datetime(2014, 6, 27, 0, 0), 3128),\n",
        "  (datetime.datetime(2014, 6, 28, 0, 0), 1853),\n",
        "  (datetime.datetime(2014, 6, 29, 0, 0), 0),\n",
        "  (datetime.datetime(2014, 6, 30, 0, 0), 0),\n",
        "  (datetime.datetime(2014, 7, 1, 0, 0), 0),\n",
        "  (datetime.datetime(2014, 7, 2, 0, 0), 0),\n",
        "  (datetime.datetime(2014, 7, 3, 0, 0), 0),\n",
        "  (datetime.datetime(2014, 7, 4, 0, 0), 1501),\n",
        "  (datetime.datetime(2014, 7, 5, 0, 0), 2946),\n",
        "  (datetime.datetime(2014, 7, 6, 0, 0), 2277),\n",
        "  (datetime.datetime(2014, 7, 7, 0, 0), 2346),\n",
        "  (datetime.datetime(2014, 7, 8, 0, 0), 2922),\n",
        "  (datetime.datetime(2014, 7, 9, 0, 0), 3114),\n",
        "  (datetime.datetime(2014, 7, 10, 0, 0), 3211),\n",
        "  (datetime.datetime(2014, 7, 11, 0, 0), 3536),\n",
        "  (datetime.datetime(2014, 7, 12, 0, 0), 2092),\n",
        "  (datetime.datetime(2014, 7, 13, 0, 0), 1431),\n",
        "  (datetime.datetime(2014, 7, 14, 0, 0), 3184),\n",
        "  (datetime.datetime(2014, 7, 15, 0, 0), 2633),\n",
        "  (datetime.datetime(2014, 7, 16, 0, 0), 3005),\n",
        "  (datetime.datetime(2014, 7, 17, 0, 0), 3126),\n",
        "  (datetime.datetime(2014, 7, 18, 0, 0), 3132),\n",
        "  (datetime.datetime(2014, 7, 19, 0, 0), 1778),\n",
        "  (datetime.datetime(2014, 7, 20, 0, 0), 1405),\n",
        "  (datetime.datetime(2014, 7, 21, 0, 0), 2937),\n",
        "  (datetime.datetime(2014, 7, 22, 0, 0), 2999),\n",
        "  (datetime.datetime(2014, 7, 23, 0, 0), 3065),\n",
        "  (datetime.datetime(2014, 7, 24, 0, 0), 3075),\n",
        "  (datetime.datetime(2014, 7, 25, 0, 0), 3162),\n",
        "  (datetime.datetime(2014, 7, 26, 0, 0), 1870),\n",
        "  (datetime.datetime(2014, 7, 27, 0, 0), 1309),\n",
        "  (datetime.datetime(2014, 7, 28, 0, 0), 2796),\n",
        "  (datetime.datetime(2014, 7, 29, 0, 0), 2913),\n",
        "  (datetime.datetime(2014, 7, 30, 0, 0), 3068),\n",
        "  (datetime.datetime(2014, 7, 31, 0, 0), 2929),\n",
        "  (datetime.datetime(2014, 8, 1, 0, 0), 2974),\n",
        "  (datetime.datetime(2014, 8, 2, 0, 0), 1788),\n",
        "  (datetime.datetime(2014, 8, 3, 0, 0), 1461),\n",
        "  (datetime.datetime(2014, 8, 4, 0, 0), 2799),\n",
        "  (datetime.datetime(2014, 8, 5, 0, 0), 3000),\n",
        "  (datetime.datetime(2014, 8, 6, 0, 0), 2986),\n",
        "  (datetime.datetime(2014, 8, 7, 0, 0), 3042),\n",
        "  (datetime.datetime(2014, 8, 8, 0, 0), 2984),\n",
        "  (datetime.datetime(2014, 8, 9, 0, 0), 2184),\n",
        "  (datetime.datetime(2014, 8, 10, 0, 0), 1270),\n",
        "  (datetime.datetime(2014, 8, 11, 0, 0), 2703),\n",
        "  (datetime.datetime(2014, 8, 12, 0, 0), 2743),\n",
        "  (datetime.datetime(2014, 8, 13, 0, 0), 2785),\n",
        "  (datetime.datetime(2014, 8, 14, 0, 0), 2877),\n",
        "  (datetime.datetime(2014, 8, 15, 0, 0), 2623),\n",
        "  (datetime.datetime(2014, 8, 16, 0, 0), 1729),\n",
        "  (datetime.datetime(2014, 8, 17, 0, 0), 1290),\n",
        "  (datetime.datetime(2014, 8, 18, 0, 0), 4503),\n",
        "  (datetime.datetime(2014, 8, 19, 0, 0), 4460),\n",
        "  (datetime.datetime(2014, 8, 20, 0, 0), 4106),\n",
        "  (datetime.datetime(2014, 8, 21, 0, 0), 5136),\n",
        "  (datetime.datetime(2014, 8, 22, 0, 0), 5030),\n",
        "  (datetime.datetime(2014, 8, 23, 0, 0), 3538),\n",
        "  (datetime.datetime(2014, 8, 24, 0, 0), 2883),\n",
        "  (datetime.datetime(2014, 8, 25, 0, 0), 4653),\n",
        "  (datetime.datetime(2014, 8, 26, 0, 0), 4976),\n",
        "  (datetime.datetime(2014, 8, 27, 0, 0), 4918),\n",
        "  (datetime.datetime(2014, 8, 28, 0, 0), 2799),\n",
        "  (datetime.datetime(2014, 8, 29, 0, 0), 2434)])"
       ]
      }
     ],
     "prompt_number": 72
    },
    {
     "cell_type": "code",
     "collapsed": false,
     "input": [
      "from collections import defaultdict\n",
      "turnstile_counts = defaultdict(int)\n",
      "\n",
      "for turnstile, entries in turnstile_data.iteritems():\n",
      "    for day, count in entries:\n",
      "        turnstile_counts[turnstile] += count"
     ],
     "language": "python",
     "metadata": {},
     "outputs": [],
     "prompt_number": 78
    },
    {
     "cell_type": "code",
     "collapsed": false,
     "input": [
      "turnstile_counts.iteritems().next()"
     ],
     "language": "python",
     "metadata": {},
     "outputs": [
      {
       "metadata": {},
       "output_type": "pyout",
       "prompt_number": 79,
       "text": [
        "(('R252', 'R180', '00-00-03'), 265008)"
       ]
      }
     ],
     "prompt_number": 79
    },
    {
     "cell_type": "code",
     "collapsed": false,
     "input": [
      "max(turnstile_counts.iteritems(), key=operator.itemgetter(1))"
     ],
     "language": "python",
     "metadata": {},
     "outputs": [
      {
       "metadata": {},
       "output_type": "pyout",
       "prompt_number": 83,
       "text": [
        "(('H009', 'R235', '00-03-04'), 614740)"
       ]
      }
     ],
     "prompt_number": 83
    },
    {
     "cell_type": "code",
     "collapsed": false,
     "input": [
      "from collections import defaultdict\n",
      "daily_counts = defaultdict(int)\n",
      "\n",
      "for turnstile, entries in turnstile_data.iteritems():\n",
      "    for day, count in entries:\n",
      "        daily_counts[day] += count"
     ],
     "language": "python",
     "metadata": {},
     "outputs": [],
     "prompt_number": 84
    },
    {
     "cell_type": "code",
     "collapsed": false,
     "input": [
      "max(daily_counts.iteritems(), key=operator.itemgetter(1))"
     ],
     "language": "python",
     "metadata": {},
     "outputs": [
      {
       "metadata": {},
       "output_type": "pyout",
       "prompt_number": 85,
       "text": [
        "(datetime.datetime(2014, 6, 11, 0, 0), 6231109)"
       ]
      }
     ],
     "prompt_number": 85
    },
    {
     "cell_type": "code",
     "collapsed": false,
     "input": [
      "%matplotlib inline\n",
      "import matplotlib.pyplot as plt\n",
      "\n",
      "x = sorted(daily_counts.keys())\n",
      "y = daily_counts.values()\n",
      "\n",
      "plt.bar(x,y)"
     ],
     "language": "python",
     "metadata": {},
     "outputs": [
      {
       "metadata": {},
       "output_type": "pyout",
       "prompt_number": 104,
       "text": [
        "<Container object of 98 artists>"
       ]
      },
      {
       "metadata": {},
       "output_type": "display_data",
       "png": "[encoded data removed]",
       "text": [
        "<matplotlib.figure.Figure at 0x15aeaab90>"
       ]
      }
     ],
     "prompt_number": 104
    },
    {
     "cell_type": "code",
     "collapsed": false,
     "input": [
      "plt.plot(x,y,'ro')"
     ],
     "language": "python",
     "metadata": {},
     "outputs": [
      {
       "metadata": {},
       "output_type": "pyout",
       "prompt_number": 102,
       "text": [
        "[<matplotlib.lines.Line2D at 0x154e56310>]"
       ]
      },
      {
       "metadata": {},
       "output_type": "display_data",
       "png": "[encoded data removed]",
       "text": [
        "<matplotlib.figure.Figure at 0x15933ba10>"
       ]
      }
     ],
     "prompt_number": 102
    },
    {
     "cell_type": "code",
     "collapsed": false,
     "input": [],
     "language": "python",
     "metadata": {},
     "outputs": []
    }
   ],
   "metadata": {}
  }
 ]
}