{
 "metadata": {
  "name": "",
  "signature": "sha256:63e2e97230e5dfbf8a968e616a81c9c4729c32f328f811fd478ae0be08d89622"
 },
 "nbformat": 3,
 "nbformat_minor": 0,
 "worksheets": [
  {
   "cells": [
    {
     "cell_type": "markdown",
     "metadata": {},
     "source": [
      "## Download the data"
     ]
    },
    {
     "cell_type": "code",
     "collapsed": false,
     "input": [
      "%matplotlib inline\n",
      "import mta\n",
      "\n",
      "mta.get_turnstile_data(num_files=14,\n",
      "                       data_url=\"http://web.mta.info/developers/turnstile.html\",\n",
      "                       destination='./data/')"
     ],
     "language": "python",
     "metadata": {},
     "outputs": [
      {
       "output_type": "stream",
       "stream": "stdout",
       "text": [
        "Downloading turnstile key from http://web.mta.info/developers/resources/nyct/turnstile/Remote-Booth-Station.xls\n",
        "Downloading 1 of 14: http://web.mta.info/developers/data/nyct/turnstile/turnstile_140830.txt"
       ]
      },
      {
       "output_type": "stream",
       "stream": "stdout",
       "text": [
        "\n",
        "Downloading 2 of 14: http://web.mta.info/developers/data/nyct/turnstile/turnstile_140823.txt"
       ]
      },
      {
       "output_type": "stream",
       "stream": "stdout",
       "text": [
        "\n",
        "Downloading 3 of 14: http://web.mta.info/developers/data/nyct/turnstile/turnstile_140816.txt"
       ]
      },
      {
       "output_type": "stream",
       "stream": "stdout",
       "text": [
        "\n",
        "Downloading 4 of 14: http://web.mta.info/developers/data/nyct/turnstile/turnstile_140809.txt"
       ]
      },
      {
       "output_type": "stream",
       "stream": "stdout",
       "text": [
        "\n",
        "Downloading 5 of 14: http://web.mta.info/developers/data/nyct/turnstile/turnstile_140802.txt"
       ]
      },
      {
       "output_type": "stream",
       "stream": "stdout",
       "text": [
        "\n",
        "Downloading 6 of 14: http://web.mta.info/developers/data/nyct/turnstile/turnstile_140726.txt"
       ]
      },
      {
       "output_type": "stream",
       "stream": "stdout",
       "text": [
        "\n",
        "Downloading 7 of 14: http://web.mta.info/developers/data/nyct/turnstile/turnstile_140719.txt"
       ]
      },
      {
       "output_type": "stream",
       "stream": "stdout",
       "text": [
        "\n",
        "Downloading 8 of 14: http://web.mta.info/developers/data/nyct/turnstile/turnstile_140712.txt"
       ]
      },
      {
       "output_type": "stream",
       "stream": "stdout",
       "text": [
        "\n",
        "Downloading 9 of 14: http://web.mta.info/developers/data/nyct/turnstile/turnstile_140705.txt"
       ]
      },
      {
       "output_type": "stream",
       "stream": "stdout",
       "text": [
        "\n",
        "Downloading 10 of 14: http://web.mta.info/developers/data/nyct/turnstile/turnstile_140628.txt"
       ]
      },
      {
       "output_type": "stream",
       "stream": "stdout",
       "text": [
        "\n",
        "Downloading 11 of 14: http://web.mta.info/developers/data/nyct/turnstile/turnstile_140621.txt"
       ]
      },
      {
       "output_type": "stream",
       "stream": "stdout",
       "text": [
        "\n",
        "Downloading 12 of 14: http://web.mta.info/developers/data/nyct/turnstile/turnstile_140614.txt"
       ]
      },
      {
       "output_type": "stream",
       "stream": "stdout",
       "text": [
        "\n",
        "Downloading 13 of 14: http://web.mta.info/developers/data/nyct/turnstile/turnstile_140607.txt"
       ]
      },
      {
       "output_type": "stream",
       "stream": "stdout",
       "text": [
        "\n",
        "Downloading 14 of 14: http://web.mta.info/developers/data/nyct/turnstile/turnstile_140531.txt"
       ]
      },
      {
       "output_type": "stream",
       "stream": "stdout",
       "text": [
        "\n",
        "Done."
       ]
      },
      {
       "output_type": "stream",
       "stream": "stdout",
       "text": [
        "\n"
       ]
      }
     ],
     "prompt_number": 2
    },
    {
     "cell_type": "code",
     "collapsed": false,
     "input": [],
     "language": "python",
     "metadata": {},
     "outputs": []
    }
   ],
   "metadata": {}
  }
 ]
}